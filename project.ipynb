{
 "cells": [
  {
   "cell_type": "markdown",
   "id": "073de48a-9486-48e3-b090-52ac01420b9a",
   "metadata": {},
   "source": [
    "# Autism spectrum disorder (ASD) classification from resting state fmri data\n",
    "Autism Brain Imaging Data Exchange (ABIDE) was launched in 2012.  ABIDE II is a multisite open-data resource which is an aggregate of resting state functional magnetic resonance imaging (MRI) and corresponding structural MRI and phenotypic datasets. ABIDE II includes datasets from  487 individuals with ASD and 557 controls previously collected across 16 international institutions. \n",
    "\n",
    "The initial ABIDE initiative—now termed ABIDE I—was the first open-access brain imaging repository of resting state functional magnetic resonance imaging (R-fMRI) and corresponding structural data of individuals with ASD and typical controls aggregated from multiple international institutions.\n",
    "\n",
    "ABIDE II has 1004 samples and each sample has 1446 features. ABIDE II dataset is available in the **ndslib** module which is imported."
   ]
  },
  {
   "cell_type": "code",
   "execution_count": 3,
   "id": "de6839ae-fd9b-42f3-813b-75ed5fbd39ca",
   "metadata": {},
   "outputs": [],
   "source": [
    "from ndslib.data import load_data\n",
    "from sklearn.naive_bayes import GaussianNB\n",
    "from sklearn.ensemble import RandomForestClassifier\n",
    "from sklearn.linear_model import LogisticRegression\n",
    "from sklearn.metrics import confusion_matrix\n",
    "from sklearn.preprocessing import StandardScaler\n",
    "from sklearn.feature_selection import RFE\n",
    "from sklearn.metrics import accuracy_score, classification_report\n",
    "from xgboost import XGBClassifier\n",
    "import xgboost as xgb\n",
    "from sklearn.model_selection import train_test_split\n",
    "from sklearn.preprocessing import StandardScaler\n",
    "from sklearn.decomposition import PCA\n",
    "import pandas as pd\n",
    "import seaborn as sns\n",
    "import numpy as np\n",
    "import matplotlib.pyplot as plt\n",
    "plt.rcParams['figure.dpi'] = 300"
   ]
  },
  {
   "cell_type": "code",
   "execution_count": 6,
   "id": "55a3b5c3-923c-4b9b-b654-b5ddc51146c4",
   "metadata": {},
   "outputs": [
    {
     "name": "stdout",
     "output_type": "stream",
     "text": [
      "shape of the dataset:  (1004, 1446)\n"
     ]
    },
    {
     "data": {
      "text/html": [
       "<div>\n",
       "<style scoped>\n",
       "    .dataframe tbody tr th:only-of-type {\n",
       "        vertical-align: middle;\n",
       "    }\n",
       "\n",
       "    .dataframe tbody tr th {\n",
       "        vertical-align: top;\n",
       "    }\n",
       "\n",
       "    .dataframe thead th {\n",
       "        text-align: right;\n",
       "    }\n",
       "</style>\n",
       "<table border=\"1\" class=\"dataframe\">\n",
       "  <thead>\n",
       "    <tr style=\"text-align: right;\">\n",
       "      <th></th>\n",
       "      <th>site</th>\n",
       "      <th>subject</th>\n",
       "      <th>age</th>\n",
       "      <th>sex</th>\n",
       "      <th>group</th>\n",
       "      <th>age_resid</th>\n",
       "      <th>fsArea_L_V1_ROI</th>\n",
       "      <th>fsArea_L_MST_ROI</th>\n",
       "      <th>fsArea_L_V6_ROI</th>\n",
       "      <th>fsArea_L_V2_ROI</th>\n",
       "      <th>...</th>\n",
       "      <th>fsCT_R_p47r_ROI</th>\n",
       "      <th>fsCT_R_TGv_ROI</th>\n",
       "      <th>fsCT_R_MBelt_ROI</th>\n",
       "      <th>fsCT_R_LBelt_ROI</th>\n",
       "      <th>fsCT_R_A4_ROI</th>\n",
       "      <th>fsCT_R_STSva_ROI</th>\n",
       "      <th>fsCT_R_TE1m_ROI</th>\n",
       "      <th>fsCT_R_PI_ROI</th>\n",
       "      <th>fsCT_R_a32pr_ROI</th>\n",
       "      <th>fsCT_R_p24_ROI</th>\n",
       "    </tr>\n",
       "  </thead>\n",
       "  <tbody>\n",
       "    <tr>\n",
       "      <th>0</th>\n",
       "      <td>ABIDEII-KKI_1</td>\n",
       "      <td>29293</td>\n",
       "      <td>8.893151</td>\n",
       "      <td>2.0</td>\n",
       "      <td>1.0</td>\n",
       "      <td>13.642852</td>\n",
       "      <td>2750.0</td>\n",
       "      <td>306.0</td>\n",
       "      <td>354.0</td>\n",
       "      <td>2123.0</td>\n",
       "      <td>...</td>\n",
       "      <td>3.362</td>\n",
       "      <td>2.827</td>\n",
       "      <td>2.777</td>\n",
       "      <td>2.526</td>\n",
       "      <td>3.202</td>\n",
       "      <td>3.024</td>\n",
       "      <td>3.354</td>\n",
       "      <td>2.629</td>\n",
       "      <td>2.699</td>\n",
       "      <td>3.179</td>\n",
       "    </tr>\n",
       "    <tr>\n",
       "      <th>1</th>\n",
       "      <td>ABIDEII-OHSU_1</td>\n",
       "      <td>28997</td>\n",
       "      <td>12.000000</td>\n",
       "      <td>2.0</td>\n",
       "      <td>1.0</td>\n",
       "      <td>16.081732</td>\n",
       "      <td>2836.0</td>\n",
       "      <td>186.0</td>\n",
       "      <td>354.0</td>\n",
       "      <td>2261.0</td>\n",
       "      <td>...</td>\n",
       "      <td>2.809</td>\n",
       "      <td>3.539</td>\n",
       "      <td>2.944</td>\n",
       "      <td>2.769</td>\n",
       "      <td>3.530</td>\n",
       "      <td>3.079</td>\n",
       "      <td>3.282</td>\n",
       "      <td>2.670</td>\n",
       "      <td>2.746</td>\n",
       "      <td>3.324</td>\n",
       "    </tr>\n",
       "    <tr>\n",
       "      <th>2</th>\n",
       "      <td>ABIDEII-GU_1</td>\n",
       "      <td>28845</td>\n",
       "      <td>8.390000</td>\n",
       "      <td>1.0</td>\n",
       "      <td>2.0</td>\n",
       "      <td>12.866264</td>\n",
       "      <td>3394.0</td>\n",
       "      <td>223.0</td>\n",
       "      <td>373.0</td>\n",
       "      <td>2827.0</td>\n",
       "      <td>...</td>\n",
       "      <td>2.435</td>\n",
       "      <td>3.321</td>\n",
       "      <td>2.799</td>\n",
       "      <td>2.388</td>\n",
       "      <td>3.148</td>\n",
       "      <td>3.125</td>\n",
       "      <td>3.116</td>\n",
       "      <td>2.891</td>\n",
       "      <td>2.940</td>\n",
       "      <td>3.232</td>\n",
       "    </tr>\n",
       "    <tr>\n",
       "      <th>3</th>\n",
       "      <td>ABIDEII-NYU_1</td>\n",
       "      <td>29210</td>\n",
       "      <td>8.300000</td>\n",
       "      <td>1.0</td>\n",
       "      <td>1.0</td>\n",
       "      <td>13.698139</td>\n",
       "      <td>3382.0</td>\n",
       "      <td>266.0</td>\n",
       "      <td>422.0</td>\n",
       "      <td>2686.0</td>\n",
       "      <td>...</td>\n",
       "      <td>3.349</td>\n",
       "      <td>3.344</td>\n",
       "      <td>2.694</td>\n",
       "      <td>3.030</td>\n",
       "      <td>3.258</td>\n",
       "      <td>2.774</td>\n",
       "      <td>3.383</td>\n",
       "      <td>2.696</td>\n",
       "      <td>3.014</td>\n",
       "      <td>3.264</td>\n",
       "    </tr>\n",
       "    <tr>\n",
       "      <th>4</th>\n",
       "      <td>ABIDEII-EMC_1</td>\n",
       "      <td>29894</td>\n",
       "      <td>7.772758</td>\n",
       "      <td>2.0</td>\n",
       "      <td>2.0</td>\n",
       "      <td>14.772459</td>\n",
       "      <td>3080.0</td>\n",
       "      <td>161.0</td>\n",
       "      <td>346.0</td>\n",
       "      <td>2105.0</td>\n",
       "      <td>...</td>\n",
       "      <td>2.428</td>\n",
       "      <td>2.940</td>\n",
       "      <td>2.809</td>\n",
       "      <td>2.607</td>\n",
       "      <td>3.430</td>\n",
       "      <td>2.752</td>\n",
       "      <td>2.645</td>\n",
       "      <td>3.111</td>\n",
       "      <td>3.219</td>\n",
       "      <td>4.128</td>\n",
       "    </tr>\n",
       "  </tbody>\n",
       "</table>\n",
       "<p>5 rows × 1446 columns</p>\n",
       "</div>"
      ],
      "text/plain": [
       "             site  subject        age  sex  group  age_resid  fsArea_L_V1_ROI  \\\n",
       "0   ABIDEII-KKI_1    29293   8.893151  2.0    1.0  13.642852           2750.0   \n",
       "1  ABIDEII-OHSU_1    28997  12.000000  2.0    1.0  16.081732           2836.0   \n",
       "2    ABIDEII-GU_1    28845   8.390000  1.0    2.0  12.866264           3394.0   \n",
       "3   ABIDEII-NYU_1    29210   8.300000  1.0    1.0  13.698139           3382.0   \n",
       "4   ABIDEII-EMC_1    29894   7.772758  2.0    2.0  14.772459           3080.0   \n",
       "\n",
       "   fsArea_L_MST_ROI  fsArea_L_V6_ROI  fsArea_L_V2_ROI  ...  fsCT_R_p47r_ROI  \\\n",
       "0             306.0            354.0           2123.0  ...            3.362   \n",
       "1             186.0            354.0           2261.0  ...            2.809   \n",
       "2             223.0            373.0           2827.0  ...            2.435   \n",
       "3             266.0            422.0           2686.0  ...            3.349   \n",
       "4             161.0            346.0           2105.0  ...            2.428   \n",
       "\n",
       "   fsCT_R_TGv_ROI  fsCT_R_MBelt_ROI  fsCT_R_LBelt_ROI  fsCT_R_A4_ROI  \\\n",
       "0           2.827             2.777             2.526          3.202   \n",
       "1           3.539             2.944             2.769          3.530   \n",
       "2           3.321             2.799             2.388          3.148   \n",
       "3           3.344             2.694             3.030          3.258   \n",
       "4           2.940             2.809             2.607          3.430   \n",
       "\n",
       "   fsCT_R_STSva_ROI  fsCT_R_TE1m_ROI  fsCT_R_PI_ROI  fsCT_R_a32pr_ROI  \\\n",
       "0             3.024            3.354          2.629             2.699   \n",
       "1             3.079            3.282          2.670             2.746   \n",
       "2             3.125            3.116          2.891             2.940   \n",
       "3             2.774            3.383          2.696             3.014   \n",
       "4             2.752            2.645          3.111             3.219   \n",
       "\n",
       "   fsCT_R_p24_ROI  \n",
       "0           3.179  \n",
       "1           3.324  \n",
       "2           3.232  \n",
       "3           3.264  \n",
       "4           4.128  \n",
       "\n",
       "[5 rows x 1446 columns]"
      ]
     },
     "execution_count": 6,
     "metadata": {},
     "output_type": "execute_result"
    }
   ],
   "source": [
    "abide_data = load_data(\"abide2\")\n",
    "print('shape of the dataset: ', abide_data.shape)\n",
    "abide_data.head()"
   ]
  },
  {
   "cell_type": "code",
   "execution_count": 8,
   "id": "106801ba-70a7-453a-b65d-ccd39b6be3a0",
   "metadata": {},
   "outputs": [],
   "source": [
    "features = abide_data.filter(like='fs') # all feature columns starts with 'fs'\n",
    "# features.head()\n",
    "phenotypes = abide_data.iloc[:, :6]  # first 6  columns of all\n",
    "# samples are put in a dataframe called phenotypes"
   ]
  },
  {
   "cell_type": "code",
   "execution_count": 9,
   "id": "ab29053e-9095-44e0-8709-eb5b1c63a9aa",
   "metadata": {},
   "outputs": [
    {
     "name": "stdout",
     "output_type": "stream",
     "text": [
      "No columns have missing values.\n"
     ]
    }
   ],
   "source": [
    "# Check for missing values in each column\n",
    "missing_percentage = (features.isnull().sum() / len(features)) * 100\n",
    "\n",
    "# Filter columns with missing values\n",
    "missing_cols = missing_percentage[missing_percentage > 0]\n",
    "\n",
    "if not missing_cols.empty:\n",
    "    print(\"Columns with missing values:\")\n",
    "    print(missing_cols)\n",
    "else:\n",
    "    print(\"No columns have missing values.\")"
   ]
  },
  {
   "cell_type": "code",
   "execution_count": 10,
   "id": "571db78f-6104-4fce-bf2a-6fde6214176c",
   "metadata": {},
   "outputs": [],
   "source": [
    "X = features # X is now the feature vector\n",
    "y = pd.to_numeric(phenotypes['group'])\n",
    "y = y - 1 #make encoding to  0 and 1 from the default 1 and 2\n"
   ]
  },
  {
   "cell_type": "markdown",
   "id": "d9ac8889-fdc4-4e52-8ff1-14468379ec6e",
   "metadata": {},
   "source": [
    "## PCA"
   ]
  },
  {
   "cell_type": "code",
   "execution_count": 12,
   "id": "76ea44b0-b271-44dc-a767-e55797699692",
   "metadata": {},
   "outputs": [
    {
     "data": {
      "image/png": "[encoded data removed]",
      "text/plain": [
       "<Figure size 576x432 with 1 Axes>"
      ]
     },
     "metadata": {
      "needs_background": "light"
     },
     "output_type": "display_data"
    }
   ],
   "source": [
    "# Assuming 'X' is your feature matrix\n",
    "# Initialize PCA\n",
    "pca = PCA(n_components=10)  # Specify the number of principal components you want to compute\n",
    "\n",
    "# Fit PCA and transform the data\n",
    "X_pca = pca.fit_transform(X)\n",
    "\n",
    "# 'X_pca' now contains the transformed data with the principal components\n",
    "plt.figure(figsize=(8, 6))\n",
    "plt.scatter(X_pca[:, 0], X_pca[:, 1], alpha=0.5)\n",
    "plt.xlabel('Principal Component 1')\n",
    "plt.ylabel('Principal Component 2')\n",
    "plt.title('Scatter Plot of Principal Components')\n",
    "plt.grid(True)\n",
    "plt.savefig(\"PCA.png\")\n",
    "plt.show()"
   ]
  },
  {
   "cell_type": "markdown",
   "id": "f23fa746-0900-4aaa-b4b4-ec084f0a6d6a",
   "metadata": {},
   "source": [
    "# Classification\n",
    "## Gaussian Naive Bayes  (GNB)\n",
    "Naive bayes is a simple classification approach based ona naive application of Baye's Theorem. The naivete stems from the classifier's assumption that all features are independent of one another once we condition on class assignment. GNB is a good classifier to use as a performance baseline.  \n",
    "Here all 1440 features are thrown at the classifier, and try to predict the diagnosis class. \n",
    "The feature matrix X and the label vector y is split in 0.8:0.2 train:test ratio."
   ]
  },
  {
   "cell_type": "code",
   "execution_count": 24,
   "id": "1c435f67-e686-4e39-ba39-1bf4e861bff4",
   "metadata": {},
   "outputs": [
    {
     "name": "stdout",
     "output_type": "stream",
     "text": [
      "Accuracy: 0.582089552238806\n",
      "              precision    recall  f1-score   support\n",
      "\n",
      "         0.0       0.55      0.40      0.46        91\n",
      "         1.0       0.60      0.74      0.66       110\n",
      "\n",
      "    accuracy                           0.58       201\n",
      "   macro avg       0.57      0.57      0.56       201\n",
      "weighted avg       0.58      0.58      0.57       201\n",
      "\n"
     ]
    },
    {
     "data": {
      "image/png": "[encoded data removed]",
      "text/plain": [
       "<Figure size 576x432 with 1 Axes>"
      ]
     },
     "metadata": {
      "needs_background": "light"
     },
     "output_type": "display_data"
    }
   ],
   "source": [
    "X_train, X_test, y_train, y_test = train_test_split(X, y, test_size=0.2, random_state=42)\n",
    "#print(X_train.shape, X_test.shape, y_train.shape, y_test.shape)\n",
    "\n",
    "gnb = GaussianNB()\n",
    "gnb = gnb.fit(X_train, y_train)\n",
    "\n",
    "y_pred = gnb.predict(X_test)\n",
    "\n",
    "# Evaluate the model\n",
    "accuracy = accuracy_score(y_test, y_pred)\n",
    "print(\"Accuracy:\", accuracy)\n",
    "\n",
    "print(classification_report(y_test, y_pred))\n",
    "\n",
    "\n",
    "\n",
    "# Compute confusion matrix\n",
    "conf_matrix = confusion_matrix(y_test, y_pred)\n",
    "\n",
    "# Plot confusion matrix\n",
    "plt.figure(figsize=(8, 6))\n",
    "sns.heatmap(conf_matrix, annot=True, fmt='d', cmap='Blues', cbar=False)\n",
    "plt.xlabel('Predicted labels')\n",
    "plt.ylabel('True labels')\n",
    "plt.title('Confusion Matrix')\n",
    "plt.savefig(\"GNB_all.png\")\n",
    "plt.show()"
   ]
  },
  {
   "cell_type": "markdown",
   "id": "29de3499-5941-4d5b-aa32-bee272687d63",
   "metadata": {},
   "source": [
    " while precision is almost identical for the two groups, the recall or sensitivity differs substantially: control subjects have higher probability  (73%)  of being correctly labeled than subjects with an autism diagnosis (34%). This suggests a bias in the model, namely that the model is more likely to assign cases to the control group  than the autism group. "
   ]
  },
  {
   "cell_type": "markdown",
   "id": "8912164a-f55b-4c35-9ba3-606a9a2f2436",
   "metadata": {},
   "source": [
    "## Random forest classifier\n"
   ]
  },
  {
   "cell_type": "code",
   "execution_count": 14,
   "id": "74f6eab9-d97f-4037-b175-11f315560e95",
   "metadata": {},
   "outputs": [
    {
     "name": "stdout",
     "output_type": "stream",
     "text": [
      "Accuracy: 0.6069651741293532\n",
      "Classification Report:\n",
      "              precision    recall  f1-score   support\n",
      "\n",
      "         0.0       0.58      0.47      0.52        91\n",
      "         1.0       0.62      0.72      0.67       110\n",
      "\n",
      "    accuracy                           0.61       201\n",
      "   macro avg       0.60      0.60      0.59       201\n",
      "weighted avg       0.60      0.61      0.60       201\n",
      "\n"
     ]
    },
    {
     "data": {
      "image/png": "[encoded data removed]",
      "text/plain": [
       "<Figure size 576x432 with 1 Axes>"
      ]
     },
     "metadata": {
      "needs_background": "light"
     },
     "output_type": "display_data"
    }
   ],
   "source": [
    "# Initialize the Random Forest classifier\n",
    "rf_classifier = RandomForestClassifier(n_estimators=100, random_state=42)\n",
    "\n",
    "# Train the classifier on the training data\n",
    "rf_classifier.fit(X_train, y_train)\n",
    "\n",
    "# Make predictions on the testing data\n",
    "y_pred = rf_classifier.predict(X_test)\n",
    "\n",
    "# Evaluate the model\n",
    "accuracy = accuracy_score(y_test, y_pred)\n",
    "print(\"Accuracy:\", accuracy)\n",
    "\n",
    "# Print classification report\n",
    "print(\"Classification Report:\")\n",
    "print(classification_report(y_test, y_pred))\n",
    "\n",
    "# Compute confusion matrix\n",
    "conf_matrix = confusion_matrix(y_test, y_pred)\n",
    "\n",
    "# Plot confusion matrix\n",
    "plt.figure(figsize=(8, 6))\n",
    "sns.heatmap(conf_matrix, annot=True, fmt='d', cmap='Blues', cbar=False)\n",
    "plt.xlabel('Predicted labels')\n",
    "plt.ylabel('True labels')\n",
    "plt.title('Confusion Matrix')\n",
    "plt.savefig(\"randomforest_all.png\")\n",
    "plt.show()"
   ]
  },
  {
   "cell_type": "markdown",
   "id": "a3de586b-dd14-4d03-86e8-4c78188b3809",
   "metadata": {},
   "source": [
    "## XGBoost"
   ]
  },
  {
   "cell_type": "code",
   "execution_count": 15,
   "id": "bbba919d-4153-4bff-a22e-1d6070df9911",
   "metadata": {},
   "outputs": [
    {
     "name": "stdout",
     "output_type": "stream",
     "text": [
      "Accuracy: 0.6368159203980099\n",
      "Classification Report:\n",
      "              precision    recall  f1-score   support\n",
      "\n",
      "         0.0       0.60      0.59      0.60        91\n",
      "         1.0       0.67      0.67      0.67       110\n",
      "\n",
      "    accuracy                           0.64       201\n",
      "   macro avg       0.63      0.63      0.63       201\n",
      "weighted avg       0.64      0.64      0.64       201\n",
      "\n"
     ]
    },
    {
     "data": {
      "image/png": "[encoded data removed]",
      "text/plain": [
       "<Figure size 576x432 with 1 Axes>"
      ]
     },
     "metadata": {
      "needs_background": "light"
     },
     "output_type": "display_data"
    }
   ],
   "source": [
    "# Create an XGBoost classifier\n",
    "model = xgb.XGBClassifier()\n",
    "\n",
    "# Train the model\n",
    "model.fit(X_train, y_train)\n",
    "\n",
    "# Make predictions on the test set\n",
    "y_pred = model.predict(X_test)\n",
    "\n",
    "# Evaluate the model\n",
    "accuracy = accuracy_score(y_test, y_pred)\n",
    "print(\"Accuracy:\", accuracy)\n",
    "\n",
    "# Print classification report\n",
    "print(\"Classification Report:\")\n",
    "print(classification_report(y_test, y_pred))\n",
    "\n",
    "# Compute confusion matrix\n",
    "conf_matrix = confusion_matrix(y_test, y_pred)\n",
    "\n",
    "# Plot confusion matrix\n",
    "plt.figure(figsize=(8, 6))\n",
    "sns.heatmap(conf_matrix, annot=True, fmt='d', cmap='Blues', cbar=False)\n",
    "plt.xlabel('Predicted labels')\n",
    "plt.ylabel('True labels')\n",
    "plt.title('Confusion Matrix')\n",
    "plt.savefig(\"XGB_all.png\")\n",
    "plt.show()"
   ]
  },
  {
   "cell_type": "markdown",
   "id": "d90faa31-8c45-4be6-bbbf-37affaa70fec",
   "metadata": {},
   "source": [
    "## Lasso"
   ]
  },
  {
   "cell_type": "code",
   "execution_count": 16,
   "id": "d210e45e-32eb-46cc-8726-1979b8e78a55",
   "metadata": {},
   "outputs": [
    {
     "name": "stdout",
     "output_type": "stream",
     "text": [
      "Accuracy: 0.5422885572139303\n",
      "Classification Report:\n",
      "              precision    recall  f1-score   support\n",
      "\n",
      "         0.0       0.49      0.48      0.49        91\n",
      "         1.0       0.58      0.59      0.59       110\n",
      "\n",
      "    accuracy                           0.54       201\n",
      "   macro avg       0.54      0.54      0.54       201\n",
      "weighted avg       0.54      0.54      0.54       201\n",
      "\n"
     ]
    },
    {
     "data": {
      "image/png": "[encoded data removed]",
      "text/plain": [
       "<Figure size 576x432 with 1 Axes>"
      ]
     },
     "metadata": {
      "needs_background": "light"
     },
     "output_type": "display_data"
    }
   ],
   "source": [
    "# Standardize the features\n",
    "scaler = StandardScaler()\n",
    "X_train_scaled = scaler.fit_transform(X_train)\n",
    "X_test_scaled = scaler.transform(X_test)\n",
    "\n",
    "# Initialize the Logistic Regression classifier with Lasso regularization\n",
    "lasso_logreg = LogisticRegression(penalty='l1', solver='liblinear', C=1.0, random_state=42)\n",
    "\n",
    "# Train the classifier on the training data\n",
    "lasso_logreg.fit(X_train_scaled, y_train)\n",
    "\n",
    "# Make predictions on the testing data\n",
    "y_pred = lasso_logreg.predict(X_test_scaled)\n",
    "\n",
    "# Evaluate the model\n",
    "accuracy = accuracy_score(y_test, y_pred)\n",
    "print(\"Accuracy:\", accuracy)\n",
    "\n",
    "# Print classification report\n",
    "print(\"Classification Report:\")\n",
    "print(classification_report(y_test, y_pred))\n",
    "\n",
    "# Compute confusion matrix\n",
    "conf_matrix = confusion_matrix(y_test, y_pred)\n",
    "\n",
    "# Plot confusion matrix\n",
    "plt.figure(figsize=(8, 6))\n",
    "sns.heatmap(conf_matrix, annot=True, fmt='d', cmap='Blues', cbar=False)\n",
    "plt.xlabel('Predicted labels')\n",
    "plt.ylabel('True labels')\n",
    "plt.title('Confusion Matrix')\n",
    "plt.savefig(\"lasso_all.png\")\n",
    "plt.show()\n",
    "\n"
   ]
  },
  {
   "cell_type": "markdown",
   "id": "275fe4a3-d205-4181-8a3d-a42a294c73f7",
   "metadata": {},
   "source": [
    "All the above classification models have less accuracy. To improve the performance, we can find the important features from 1400 features rather than using everything. \n",
    "  One such method is called **recursive feature elimination (RFE)** it is a feature selection technique that recursively removes features from a model based on their importance, typically using model coefficients or feature importances. It's an iterative approach that starts with all features and gradually eliminates less important ones until the desired number of features is reached. \n",
    "  \n",
    " Here I am trying to find 100 most important features. \n",
    "\n",
    "\n"
   ]
  },
  {
   "cell_type": "markdown",
   "id": "abe7d97a-5bf3-4601-9557-757956470c55",
   "metadata": {},
   "source": [
    "## RFE"
   ]
  },
  {
   "cell_type": "code",
   "execution_count": 18,
   "id": "0243353c-417f-4dba-bd31-3c4d131d4df6",
   "metadata": {},
   "outputs": [],
   "source": [
    "# Assuming 'X' is your feature matrix and 'y' is your target variable\n",
    "# Initialize the model with a higher max_iter value\n",
    "model = LogisticRegression(max_iter=4000)  # Increase max_iter to 1000\n",
    "\n",
    "# Initialize RFE\n",
    "rfe = RFE(model, n_features_to_select= 100)  # Specify the number of features to select\n",
    "\n",
    "# Fit RFE on scaled training data\n",
    "rfe.fit(X_train_scaled, y_train)\n",
    "\n",
    "# Get selected features\n",
    "selected_features = X.columns[rfe.support_]\n",
    "\n",
    "# Now 'selected_features' contains the names of the selected features"
   ]
  },
  {
   "cell_type": "markdown",
   "id": "fc442399-c9e9-4f31-8f1f-75d329ef468a",
   "metadata": {},
   "source": [
    "instead of using the  entire feature space, we use the **selected_features** obtained using the  **RFE** method  in the above implemented classification models and check if the model improves."
   ]
  },
  {
   "cell_type": "markdown",
   "id": "8d89afb7-6fb7-4ce6-bffd-6f361b9cac67",
   "metadata": {},
   "source": [
    "## GNB, but using \"important\" features"
   ]
  },
  {
   "cell_type": "code",
   "execution_count": 19,
   "id": "75b4d3ac-b2c5-4598-8b66-a704dd8ca753",
   "metadata": {},
   "outputs": [
    {
     "name": "stdout",
     "output_type": "stream",
     "text": [
      "Accuracy: 0.582089552238806\n",
      "Classification Report:\n",
      "              precision    recall  f1-score   support\n",
      "\n",
      "         0.0       0.55      0.40      0.46        91\n",
      "         1.0       0.60      0.74      0.66       110\n",
      "\n",
      "    accuracy                           0.58       201\n",
      "   macro avg       0.57      0.57      0.56       201\n",
      "weighted avg       0.58      0.58      0.57       201\n",
      "\n"
     ]
    },
    {
     "data": {
      "image/png": "[encoded data removed]",
      "text/plain": [
       "<Figure size 576x432 with 1 Axes>"
      ]
     },
     "metadata": {
      "needs_background": "light"
     },
     "output_type": "display_data"
    }
   ],
   "source": [
    "X = features # X is now the feature vector\n",
    "y = pd.to_numeric(phenotypes['group'])\n",
    "y = y - 1 #make encoding to  0 and 1 from the default 1 and 2\n",
    "\n",
    "imp_features = features[selected_features].copy()\n",
    "X = imp_features\n",
    "\n",
    "X_train, X_test, y_train, y_test = train_test_split(X, y, test_size=0.2, random_state=42)\n",
    "#print(X_train.shape, X_test.shape, y_train.shape, y_test.shape)\n",
    "\n",
    "gnb = GaussianNB()\n",
    "gnb = gnb.fit(X_train, y_train)\n",
    "\n",
    "y_pred = gnb.predict(X_test)\n",
    "\n",
    "# Evaluate the model\n",
    "accuracy = accuracy_score(y_test, y_pred)\n",
    "print(\"Accuracy:\", accuracy)\n",
    "\n",
    "# Print classification report\n",
    "print(\"Classification Report:\")\n",
    "print(classification_report(y_test, y_pred))\n",
    "\n",
    "# Compute confusion matrix\n",
    "conf_matrix = confusion_matrix(y_test, y_pred)\n",
    "\n",
    "# Plot confusion matrix\n",
    "plt.figure(figsize=(8, 6))\n",
    "sns.heatmap(conf_matrix, annot=True, fmt='d', cmap='Blues', cbar=False)\n",
    "plt.xlabel('Predicted labels')\n",
    "plt.ylabel('True labels')\n",
    "plt.title('Confusion Matrix')\n",
    "plt.savefig(\"GNB_imp.png\")\n",
    "plt.show()"
   ]
  },
  {
   "cell_type": "markdown",
   "id": "50920a4d-74f9-4241-8b12-0919b80889a0",
   "metadata": {},
   "source": [
    "## Random forest, but using \"important\" features"
   ]
  },
  {
   "cell_type": "code",
   "execution_count": 20,
   "id": "9326d83e-5888-436a-9f75-203c3f7e9d82",
   "metadata": {},
   "outputs": [
    {
     "name": "stdout",
     "output_type": "stream",
     "text": [
      "Accuracy: 0.582089552238806\n",
      "Classification Report:\n",
      "              precision    recall  f1-score   support\n",
      "\n",
      "         0.0       0.55      0.46      0.50        91\n",
      "         1.0       0.60      0.68      0.64       110\n",
      "\n",
      "    accuracy                           0.58       201\n",
      "   macro avg       0.58      0.57      0.57       201\n",
      "weighted avg       0.58      0.58      0.58       201\n",
      "\n"
     ]
    },
    {
     "data": {
      "image/png": "[encoded data removed]",
      "text/plain": [
       "<Figure size 576x432 with 1 Axes>"
      ]
     },
     "metadata": {
      "needs_background": "light"
     },
     "output_type": "display_data"
    }
   ],
   "source": [
    "X = features # X is now the feature vector\n",
    "y = pd.to_numeric(phenotypes['group'])\n",
    "y = y - 1 #make encoding to  0 and 1 from the default 1 and 2\n",
    "\n",
    "imp_features = features[selected_features].copy()\n",
    "X = imp_features\n",
    "\n",
    "X_train, X_test, y_train, y_test = train_test_split(X, y, test_size=0.2, random_state=42)\n",
    "\n",
    "\n",
    "# Initialize the Random Forest classifier\n",
    "rf_classifier = RandomForestClassifier(n_estimators=100, random_state=42)\n",
    "\n",
    "# Train the classifier on the training data\n",
    "rf_classifier.fit(X_train, y_train)\n",
    "\n",
    "# Make predictions on the testing data\n",
    "y_pred = rf_classifier.predict(X_test)\n",
    "\n",
    "# Evaluate the model\n",
    "accuracy = accuracy_score(y_test, y_pred)\n",
    "print(\"Accuracy:\", accuracy)\n",
    "\n",
    "# Print classification report\n",
    "print(\"Classification Report:\")\n",
    "print(classification_report(y_test, y_pred))\n",
    "\n",
    "# Compute confusion matrix\n",
    "conf_matrix = confusion_matrix(y_test, y_pred)\n",
    "\n",
    "# Plot confusion matrix\n",
    "plt.figure(figsize=(8, 6))\n",
    "sns.heatmap(conf_matrix, annot=True, fmt='d', cmap='Blues', cbar=False)\n",
    "plt.xlabel('Predicted labels')\n",
    "plt.ylabel('True labels')\n",
    "plt.title('Confusion Matrix')\n",
    "plt.savefig(\"randomforest_imp.png\")\n",
    "plt.show()"
   ]
  },
  {
   "cell_type": "markdown",
   "id": "e2e7387b-597e-46d6-bfec-448dd8908e53",
   "metadata": {},
   "source": [
    "## XGBoost, but using \"important\" features"
   ]
  },
  {
   "cell_type": "code",
   "execution_count": 21,
   "id": "e778d597-ac09-4193-af4f-d84df200ddd3",
   "metadata": {},
   "outputs": [
    {
     "name": "stdout",
     "output_type": "stream",
     "text": [
      "Accuracy: 0.6019900497512438\n",
      "Classification Report:\n",
      "              precision    recall  f1-score   support\n",
      "\n",
      "         0.0       0.55      0.63      0.59        91\n",
      "         1.0       0.65      0.58      0.62       110\n",
      "\n",
      "    accuracy                           0.60       201\n",
      "   macro avg       0.60      0.60      0.60       201\n",
      "weighted avg       0.61      0.60      0.60       201\n",
      "\n"
     ]
    },
    {
     "data": {
      "image/png": "[encoded data removed]",
      "text/plain": [
       "<Figure size 576x432 with 1 Axes>"
      ]
     },
     "metadata": {
      "needs_background": "light"
     },
     "output_type": "display_data"
    }
   ],
   "source": [
    "X = features # X is now the feature vector\n",
    "y = pd.to_numeric(phenotypes['group'])\n",
    "y = y - 1 #make encoding to  0 and 1 from the default 1 and 2\n",
    "\n",
    "imp_features = features[selected_features].copy()\n",
    "X = imp_features\n",
    "\n",
    "X_train, X_test, y_train, y_test = train_test_split(X, y, test_size=0.2, random_state=42)\n",
    "\n",
    "\n",
    "# Create an XGBoost classifier\n",
    "model = xgb.XGBClassifier()\n",
    "\n",
    "# Train the model\n",
    "model.fit(X_train, y_train)\n",
    "\n",
    "# Make predictions on the test set\n",
    "y_pred = model.predict(X_test)\n",
    "\n",
    "# Evaluate the model\n",
    "accuracy = accuracy_score(y_test, y_pred)\n",
    "print(\"Accuracy:\", accuracy)\n",
    "\n",
    "# Print classification report\n",
    "print(\"Classification Report:\")\n",
    "print(classification_report(y_test, y_pred))\n",
    "\n",
    "# Compute confusion matrix\n",
    "conf_matrix = confusion_matrix(y_test, y_pred)\n",
    "\n",
    "# Plot confusion matrix\n",
    "plt.figure(figsize=(8, 6))\n",
    "sns.heatmap(conf_matrix, annot=True, fmt='d', cmap='Blues', cbar=False)\n",
    "plt.xlabel('Predicted labels')\n",
    "plt.ylabel('True labels')\n",
    "plt.title('Confusion Matrix')\n",
    "plt.savefig(\"XGB_imp.png\")\n",
    "plt.show()"
   ]
  },
  {
   "cell_type": "markdown",
   "id": "761c8a72-1dc2-46b6-b46a-f23b6be11738",
   "metadata": {},
   "source": [
    "## Lasso, but using \"important\" features"
   ]
  },
  {
   "cell_type": "code",
   "execution_count": 22,
   "id": "2bd238de-f368-41b9-9c21-9f041d239266",
   "metadata": {},
   "outputs": [
    {
     "name": "stdout",
     "output_type": "stream",
     "text": [
      "Accuracy: 0.5522388059701493\n",
      "Classification Report:\n",
      "              precision    recall  f1-score   support\n",
      "\n",
      "         0.0       0.51      0.47      0.49        91\n",
      "         1.0       0.59      0.62      0.60       110\n",
      "\n",
      "    accuracy                           0.55       201\n",
      "   macro avg       0.55      0.55      0.55       201\n",
      "weighted avg       0.55      0.55      0.55       201\n",
      "\n"
     ]
    },
    {
     "data": {
      "image/png": "[encoded data removed]",
      "text/plain": [
       "<Figure size 576x432 with 1 Axes>"
      ]
     },
     "metadata": {
      "needs_background": "light"
     },
     "output_type": "display_data"
    }
   ],
   "source": [
    "X = features # X is now the feature vector\n",
    "y = pd.to_numeric(phenotypes['group'])\n",
    "y = y - 1 #make encoding to  0 and 1 from the default 1 and 2\n",
    "\n",
    "imp_features = features[selected_features].copy()\n",
    "X = imp_features\n",
    "\n",
    "X_train, X_test, y_train, y_test = train_test_split(X, y, test_size=0.2, random_state=42)\n",
    "\n",
    "\n",
    "\n",
    "# Standardize the features\n",
    "scaler = StandardScaler()\n",
    "X_train_scaled = scaler.fit_transform(X_train)\n",
    "X_test_scaled = scaler.transform(X_test)\n",
    "\n",
    "# Initialize the Logistic Regression classifier with Lasso regularization\n",
    "lasso_logreg = LogisticRegression(penalty='l1', solver='liblinear', C=1.0, random_state=42)\n",
    "\n",
    "# Train the classifier on the training data\n",
    "lasso_logreg.fit(X_train_scaled, y_train)\n",
    "\n",
    "# Make predictions on the testing data\n",
    "y_pred = lasso_logreg.predict(X_test_scaled)\n",
    "\n",
    "# Evaluate the model\n",
    "accuracy = accuracy_score(y_test, y_pred)\n",
    "print(\"Accuracy:\", accuracy)\n",
    "\n",
    "# Print classification report\n",
    "print(\"Classification Report:\")\n",
    "print(classification_report(y_test, y_pred))\n",
    "\n",
    "# Compute confusion matrix\n",
    "conf_matrix = confusion_matrix(y_test, y_pred)\n",
    "\n",
    "# Plot confusion matrix\n",
    "plt.figure(figsize=(8, 6))\n",
    "sns.heatmap(conf_matrix, annot=True, fmt='d', cmap='Blues', cbar=False)\n",
    "plt.xlabel('Predicted labels')\n",
    "plt.ylabel('True labels')\n",
    "plt.title('Confusion Matrix')\n",
    "plt.savefig(\"lasso_imp.png\")\n",
    "plt.show()\n"
   ]
  },
  {
   "cell_type": "markdown",
   "id": "177e192e-96b1-4ece-8047-69f6cf093aec",
   "metadata": {},
   "source": [
    "## A simple feedforward Neural network model"
   ]
  },
  {
   "cell_type": "code",
   "execution_count": 30,
   "id": "a97244a1-592c-4fcc-b91d-38709f8af595",
   "metadata": {},
   "outputs": [
    {
     "name": "stderr",
     "output_type": "stream",
     "text": [
      "/home/ashish/.local/lib/python3.10/site-packages/keras/src/layers/core/dense.py:87: UserWarning: Do not pass an `input_shape`/`input_dim` argument to a layer. When using Sequential models, prefer using an `Input(shape)` object as the first layer in the model instead.\n",
      "  super().__init__(activity_regularizer=activity_regularizer, **kwargs)\n",
      "2024-05-01 16:27:10.156843: I external/local_xla/xla/stream_executor/cuda/cuda_executor.cc:998] successful NUMA node read from SysFS had negative value (-1), but there must be at least one NUMA node, so returning NUMA node zero. See more at https://github.com/torvalds/linux/blob/v6.0/Documentation/ABI/testing/sysfs-bus-pci#L344-L355\n",
      "2024-05-01 16:27:10.374837: W tensorflow/core/common_runtime/gpu/gpu_device.cc:2251] Cannot dlopen some GPU libraries. Please make sure the missing libraries mentioned above are installed properly if you would like to use GPU. Follow the guide at https://www.tensorflow.org/install/gpu for how to download and setup the required libraries for your platform.\n",
      "Skipping registering GPU devices...\n"
     ]
    },
    {
     "name": "stdout",
     "output_type": "stream",
     "text": [
      "Epoch 1/10\n",
      "\u001b[1m26/26\u001b[0m \u001b[32m━━━━━━━━━━━━━━━━━━━━\u001b[0m\u001b[37m\u001b[0m \u001b[1m2s\u001b[0m 11ms/step - accuracy: 0.4977 - loss: 797.3257 - val_accuracy: 0.4179 - val_loss: 4.9020\n",
      "Epoch 2/10\n",
      "\u001b[1m26/26\u001b[0m \u001b[32m━━━━━━━━━━━━━━━━━━━━\u001b[0m\u001b[37m\u001b[0m \u001b[1m0s\u001b[0m 4ms/step - accuracy: 0.5445 - loss: 1.4876 - val_accuracy: 0.5473 - val_loss: 0.6913\n",
      "Epoch 3/10\n",
      "\u001b[1m26/26\u001b[0m \u001b[32m━━━━━━━━━━━━━━━━━━━━\u001b[0m\u001b[37m\u001b[0m \u001b[1m0s\u001b[0m 4ms/step - accuracy: 0.5485 - loss: 0.6927 - val_accuracy: 0.5473 - val_loss: 0.6905\n",
      "Epoch 4/10\n",
      "\u001b[1m26/26\u001b[0m \u001b[32m━━━━━━━━━━━━━━━━━━━━\u001b[0m\u001b[37m\u001b[0m \u001b[1m0s\u001b[0m 4ms/step - accuracy: 0.5114 - loss: 0.6933 - val_accuracy: 0.5473 - val_loss: 0.6905\n",
      "Epoch 5/10\n",
      "\u001b[1m26/26\u001b[0m \u001b[32m━━━━━━━━━━━━━━━━━━━━\u001b[0m\u001b[37m\u001b[0m \u001b[1m0s\u001b[0m 4ms/step - accuracy: 0.5347 - loss: 0.6913 - val_accuracy: 0.5473 - val_loss: 0.6900\n",
      "Epoch 6/10\n",
      "\u001b[1m26/26\u001b[0m \u001b[32m━━━━━━━━━━━━━━━━━━━━\u001b[0m\u001b[37m\u001b[0m \u001b[1m0s\u001b[0m 4ms/step - accuracy: 0.5397 - loss: 0.6906 - val_accuracy: 0.5473 - val_loss: 0.6896\n",
      "Epoch 7/10\n",
      "\u001b[1m26/26\u001b[0m \u001b[32m━━━━━━━━━━━━━━━━━━━━\u001b[0m\u001b[37m\u001b[0m \u001b[1m0s\u001b[0m 5ms/step - accuracy: 0.5602 - loss: 0.6886 - val_accuracy: 0.5473 - val_loss: 0.6895\n",
      "Epoch 8/10\n",
      "\u001b[1m26/26\u001b[0m \u001b[32m━━━━━━━━━━━━━━━━━━━━\u001b[0m\u001b[37m\u001b[0m \u001b[1m0s\u001b[0m 4ms/step - accuracy: 0.5355 - loss: 0.6910 - val_accuracy: 0.5473 - val_loss: 0.6893\n",
      "Epoch 9/10\n",
      "\u001b[1m26/26\u001b[0m \u001b[32m━━━━━━━━━━━━━━━━━━━━\u001b[0m\u001b[37m\u001b[0m \u001b[1m0s\u001b[0m 5ms/step - accuracy: 0.5459 - loss: 0.6889 - val_accuracy: 0.5473 - val_loss: 0.6893\n",
      "Epoch 10/10\n",
      "\u001b[1m26/26\u001b[0m \u001b[32m━━━━━━━━━━━━━━━━━━━━\u001b[0m\u001b[37m\u001b[0m \u001b[1m0s\u001b[0m 4ms/step - accuracy: 0.5594 - loss: 0.6878 - val_accuracy: 0.5473 - val_loss: 0.6891\n",
      "\u001b[1m7/7\u001b[0m \u001b[32m━━━━━━━━━━━━━━━━━━━━\u001b[0m\u001b[37m\u001b[0m \u001b[1m0s\u001b[0m 2ms/step - accuracy: 0.5694 - loss: 0.6863 \n",
      "Test Accuracy: 0.5472636818885803\n"
     ]
    }
   ],
   "source": [
    "import numpy as np\n",
    "import pandas as pd\n",
    "from sklearn.model_selection import train_test_split\n",
    "from sklearn.preprocessing import StandardScaler, LabelEncoder\n",
    "import tensorflow\n",
    "from tensorflow.keras.models import Sequential\n",
    "from tensorflow.keras.layers import Dense, Dropout\n",
    "from tensorflow.keras.utils import to_categorical\n",
    "\n",
    "\n",
    "# Load your dataset\n",
    "# Assuming 'data' is your DataFrame where the last column contains the target labels\n",
    "\n",
    "X = features # X is now the feature vector\n",
    "y = pd.to_numeric(phenotypes['group'])\n",
    "y = y - 1 #make encoding to  0 and 1 from the default 1 and 2\n",
    "# Split the data into training and testing sets\n",
    "X_train, X_test, y_train, y_test = train_test_split(X, y, test_size=0.2, random_state=42)\n",
    "\n",
    "# Convert target labels to categorical\n",
    "num_classes = len(np.unique(y))\n",
    "y_train = to_categorical(y_train, num_classes)\n",
    "y_test = to_categorical(y_test, num_classes)\n",
    "\n",
    "# Define the neural network architecture\n",
    "model = Sequential([\n",
    "    Dense(64, activation='relu', input_shape=(X_train.shape[1],)),\n",
    "    Dropout(0.5),  # Dropout layer to prevent overfitting\n",
    "    Dense(32, activation='relu'),\n",
    "    Dropout(0.5),\n",
    "    Dense(num_classes, activation='softmax')  # Output layer with softmax activation for multi-class classification\n",
    "])\n",
    "\n",
    "# Compile the model\n",
    "model.compile(optimizer='adam', loss='categorical_crossentropy', metrics=['accuracy'])\n",
    "\n",
    "# Train the model\n",
    "model.fit(X_train, y_train, epochs=10, batch_size=32, validation_data=(X_test, y_test))\n",
    "\n",
    "# Evaluate the model\n",
    "loss, accuracy = model.evaluate(X_test, y_test)\n",
    "print(\"Test Accuracy:\", accuracy)\n",
    "\n"
   ]
  },
  {
   "cell_type": "code",
   "execution_count": 32,
   "id": "ef23790b-73f5-4e06-bdad-0356a0930ed3",
   "metadata": {},
   "outputs": [
    {
     "name": "stdout",
     "output_type": "stream",
     "text": [
      "\u001b[1m7/7\u001b[0m \u001b[32m━━━━━━━━━━━━━━━━━━━━\u001b[0m\u001b[37m\u001b[0m \u001b[1m0s\u001b[0m 3ms/step \n"
     ]
    },
    {
     "data": {
      "image/png": "[encoded data removed]",
      "text/plain": [
       "<Figure size 576x432 with 1 Axes>"
      ]
     },
     "metadata": {
      "needs_background": "light"
     },
     "output_type": "display_data"
    }
   ],
   "source": [
    "y_pred = model.predict(X_test)\n",
    "y_pred_classes = np.argmax(y_pred, axis=1)\n",
    "\n",
    "# True classes\n",
    "y_true = np.argmax(y_test, axis=1)\n",
    "\n",
    "# Create confusion matrix\n",
    "conf_matrix = confusion_matrix(y_true, y_pred_classes)\n",
    "\n",
    "# Plot confusion matrix\n",
    "plt.figure(figsize=(8, 6))\n",
    "sns.heatmap(conf_matrix, annot=True, fmt='d', cmap='Blues', cbar=False)\n",
    "plt.xlabel('Predicted labels')\n",
    "plt.ylabel('True labels')\n",
    "plt.title('Confusion Matrix')\n",
    "plt.savefig(\"lasso_imp.png\")\n",
    "plt.savefig(\"NN1.png\")\n",
    "\n",
    "plt.show()"
   ]
  },
  {
   "cell_type": "code",
   "execution_count": 34,
   "id": "960aed4d-62d6-4d41-9529-327b0592651b",
   "metadata": {},
   "outputs": [
    {
     "name": "stdout",
     "output_type": "stream",
     "text": [
      "Epoch 1/10\n"
     ]
    },
    {
     "name": "stderr",
     "output_type": "stream",
     "text": [
      "/home/ashish/.local/lib/python3.10/site-packages/keras/src/layers/core/dense.py:87: UserWarning: Do not pass an `input_shape`/`input_dim` argument to a layer. When using Sequential models, prefer using an `Input(shape)` object as the first layer in the model instead.\n",
      "  super().__init__(activity_regularizer=activity_regularizer, **kwargs)\n"
     ]
    },
    {
     "name": "stdout",
     "output_type": "stream",
     "text": [
      "\u001b[1m26/26\u001b[0m \u001b[32m━━━━━━━━━━━━━━━━━━━━\u001b[0m\u001b[37m\u001b[0m \u001b[1m1s\u001b[0m 9ms/step - accuracy: 0.4921 - loss: 675.9473 - val_accuracy: 0.5025 - val_loss: 43.2709\n",
      "Epoch 2/10\n",
      "\u001b[1m26/26\u001b[0m \u001b[32m━━━━━━━━━━━━━━━━━━━━\u001b[0m\u001b[37m\u001b[0m \u001b[1m0s\u001b[0m 3ms/step - accuracy: 0.4747 - loss: 246.1705 - val_accuracy: 0.5522 - val_loss: 12.1010\n",
      "Epoch 3/10\n",
      "\u001b[1m26/26\u001b[0m \u001b[32m━━━━━━━━━━━━━━━━━━━━\u001b[0m\u001b[37m\u001b[0m \u001b[1m0s\u001b[0m 3ms/step - accuracy: 0.4951 - loss: 99.6855 - val_accuracy: 0.5970 - val_loss: 8.4160\n",
      "Epoch 4/10\n",
      "\u001b[1m26/26\u001b[0m \u001b[32m━━━━━━━━━━━━━━━━━━━━\u001b[0m\u001b[37m\u001b[0m \u001b[1m0s\u001b[0m 3ms/step - accuracy: 0.5330 - loss: 53.4775 - val_accuracy: 0.4975 - val_loss: 8.3786\n",
      "Epoch 5/10\n",
      "\u001b[1m26/26\u001b[0m \u001b[32m━━━━━━━━━━━━━━━━━━━━\u001b[0m\u001b[37m\u001b[0m \u001b[1m0s\u001b[0m 3ms/step - accuracy: 0.5333 - loss: 27.3552 - val_accuracy: 0.4776 - val_loss: 5.2095\n",
      "Epoch 6/10\n",
      "\u001b[1m26/26\u001b[0m \u001b[32m━━━━━━━━━━━━━━━━━━━━\u001b[0m\u001b[37m\u001b[0m \u001b[1m0s\u001b[0m 3ms/step - accuracy: 0.5076 - loss: 15.2472 - val_accuracy: 0.5025 - val_loss: 2.1964\n",
      "Epoch 7/10\n",
      "\u001b[1m26/26\u001b[0m \u001b[32m━━━━━━━━━━━━━━━━━━━━\u001b[0m\u001b[37m\u001b[0m \u001b[1m0s\u001b[0m 4ms/step - accuracy: 0.5487 - loss: 4.5937 - val_accuracy: 0.5572 - val_loss: 1.5053\n",
      "Epoch 8/10\n",
      "\u001b[1m26/26\u001b[0m \u001b[32m━━━━━━━━━━━━━━━━━━━━\u001b[0m\u001b[37m\u001b[0m \u001b[1m0s\u001b[0m 4ms/step - accuracy: 0.5380 - loss: 2.5333 - val_accuracy: 0.5970 - val_loss: 0.8885\n",
      "Epoch 9/10\n",
      "\u001b[1m26/26\u001b[0m \u001b[32m━━━━━━━━━━━━━━━━━━━━\u001b[0m\u001b[37m\u001b[0m \u001b[1m0s\u001b[0m 4ms/step - accuracy: 0.5571 - loss: 1.6136 - val_accuracy: 0.5622 - val_loss: 0.9830\n",
      "Epoch 10/10\n",
      "\u001b[1m26/26\u001b[0m \u001b[32m━━━━━━━━━━━━━━━━━━━━\u001b[0m\u001b[37m\u001b[0m \u001b[1m0s\u001b[0m 4ms/step - accuracy: 0.5482 - loss: 1.3111 - val_accuracy: 0.5672 - val_loss: 1.0206\n",
      "\u001b[1m7/7\u001b[0m \u001b[32m━━━━━━━━━━━━━━━━━━━━\u001b[0m\u001b[37m\u001b[0m \u001b[1m0s\u001b[0m 2ms/step - accuracy: 0.5839 - loss: 1.4120 \n",
      "Test Accuracy: 0.5671641826629639\n"
     ]
    }
   ],
   "source": [
    "X = imp_features\n",
    "y = pd.to_numeric(phenotypes['group'])\n",
    "y = y - 1 #make encoding to  0 and 1 from the default 1 and 2\n",
    "# Split the data into training and testing sets\n",
    "X_train, X_test, y_train, y_test = train_test_split(X, y, test_size=0.2, random_state=42)\n",
    "\n",
    "# Convert target labels to categorical\n",
    "num_classes = len(np.unique(y))\n",
    "y_train = to_categorical(y_train, num_classes)\n",
    "y_test = to_categorical(y_test, num_classes)\n",
    "\n",
    "# Define the neural network architecture\n",
    "model = Sequential([\n",
    "    Dense(64, activation='relu', input_shape=(X_train.shape[1],)),\n",
    "    Dropout(0.5),  # Dropout layer to prevent overfitting\n",
    "    Dense(32, activation='relu'),\n",
    "    Dropout(0.5),\n",
    "    Dense(num_classes, activation='softmax')  # Output layer with softmax activation for multi-class classification\n",
    "])\n",
    "\n",
    "# Compile the model\n",
    "model.compile(optimizer='adam', loss='categorical_crossentropy', metrics=['accuracy'])\n",
    "\n",
    "# Train the model\n",
    "model.fit(X_train, y_train, epochs=10, batch_size=32, validation_data=(X_test, y_test))\n",
    "\n",
    "# Evaluate the model\n",
    "loss, accuracy = model.evaluate(X_test, y_test)\n",
    "print(\"Test Accuracy:\", accuracy)\n"
   ]
  },
  {
   "cell_type": "code",
   "execution_count": null,
   "id": "2c8df5f8-aa9a-4910-a784-082c6543ba2d",
   "metadata": {},
   "outputs": [],
   "source": []
  }
 ],
 "metadata": {
  "kernelspec": {
   "display_name": "Python 3 (ipykernel)",
   "language": "python",
   "name": "python3"
  },
  "language_info": {
   "codemirror_mode": {
    "name": "ipython",
    "version": 3
   },
   "file_extension": ".py",
   "mimetype": "text/x-python",
   "name": "python",
   "nbconvert_exporter": "python",
   "pygments_lexer": "ipython3",
   "version": "3.10.12"
  }
 },
 "nbformat": 4,
 "nbformat_minor": 5
}
