{
 "cells": [
  {
   "cell_type": "code",
   "execution_count": 2,
   "id": "dfdd2a37-213a-4b42-8322-f0e807a5cec2",
   "metadata": {},
   "outputs": [],
   "source": [
    "from sklearn.linear_model import LogisticRegression\n",
    "from sklearn.preprocessing import StandardScaler\n",
    "from ndslib.data import load_data\n",
    "from sklearn.metrics import accuracy_score, classification_report\n",
    "from xgboost import XGBClassifier\n",
    "import xgboost as xgb\n",
    "from sklearn.model_selection import train_test_split\n",
    "from sklearn.preprocessing import StandardScaler\n",
    "from sklearn.decomposition import PCA\n",
    "import pandas as pd\n",
    "import seaborn as sns\n",
    "import numpy as np\n",
    "import matplotlib.pyplot as plt\n",
    "plt.rcParams['figure.dpi'] = 300\n"
   ]
  },
  {
   "cell_type": "code",
   "execution_count": 3,
   "id": "b3a32e3b-aa0d-460f-84ce-a6d46683f12a",
   "metadata": {},
   "outputs": [],
   "source": [
    "abide_data = load_data(\"abide2\")\n",
    "abide_data.shape\n",
    "# abide_data.head()\n",
    "features = abide_data.filter(like='fs')\n",
    "# features.head()\n",
    "phenotypes = abide_data.iloc[:, :6]  # first 6  columns of all\n",
    "# samples are put in a dataframe called phenotypes\n",
    "# phenotypes.head()\n",
    "\n",
    "#X = features\n",
    "\n"
   ]
  },
  {
   "cell_type": "code",
   "execution_count": 4,
   "id": "5bc52b01-12d0-46fa-8e68-118703ce3489",
   "metadata": {},
   "outputs": [],
   "source": [
    "columns_to_select= ['fsArea_L_V3_ROI', 'fsArea_L_5mv_ROI', 'fsArea_L_p32pr_ROI',\n",
    "       'fsArea_L_OFC_ROI', 'fsArea_L_52_ROI', 'fsArea_L_STSvp_ROI',\n",
    "       'fsArea_L_TF_ROI', 'fsArea_L_PH_ROI', 'fsArea_L_PFop_ROI',\n",
    "       'fsArea_L_s32_ROI', 'fsArea_L_LBelt_ROI', 'fsArea_R_MST_ROI',\n",
    "       'fsArea_R_VIP_ROI', 'fsArea_R_p32_ROI', 'fsArea_R_8Ad_ROI',\n",
    "       'fsArea_R_AVI_ROI', 'fsArea_R_PBelt_ROI', 'fsArea_R_TE2a_ROI',\n",
    "       'fsVol_L_POS2_ROI', 'fsVol_L_IPS1_ROI', 'fsVol_L_FFC_ROI',\n",
    "       'fsVol_L_v23ab_ROI', 'fsVol_L_PoI2_ROI', 'fsVol_L_FOP2_ROI',\n",
    "       'fsVol_L_PFt_ROI', 'fsVol_L_AIP_ROI', 'fsVol_L_STGa_ROI',\n",
    "       'fsVol_L_25_ROI', 'fsVol_L_s32_ROI', 'fsVol_R_POS2_ROI',\n",
    "       'fsVol_R_MIP_ROI', 'fsVol_R_8BL_ROI', 'fsVol_R_9a_ROI',\n",
    "       'fsVol_R_10pp_ROI', 'fsVol_R_LIPd_ROI', 'fsVol_R_OP2-3_ROI',\n",
    "       'fsVol_R_Pir_ROI', 'fsVol_R_AVI_ROI', 'fsVol_R_TE1p_ROI',\n",
    "       'fsVol_R_PHT_ROI', 'fsVol_R_TPOJ1_ROI', 'fsVol_R_PoI1_ROI',\n",
    "       'fsVol_R_Ig_ROI', 'fsLGI_L_V3_ROI', 'fsLGI_L_3b_ROI', 'fsLGI_L_V3B_ROI',\n",
    "       'fsLGI_L_5mv_ROI', 'fsLGI_L_a24_ROI', 'fsLGI_L_44_ROI',\n",
    "       'fsLGI_L_OFC_ROI', 'fsLGI_L_OP4_ROI', 'fsLGI_L_AIP_ROI',\n",
    "       'fsLGI_L_PFop_ROI', 'fsLGI_L_s32_ROI', 'fsLGI_L_STSva_ROI',\n",
    "       'fsLGI_R_MST_ROI', 'fsLGI_R_V3B_ROI', 'fsLGI_R_p32_ROI',\n",
    "       'fsLGI_R_8Ad_ROI', 'fsLGI_R_RI_ROI', 'fsLGI_R_AVI_ROI',\n",
    "       'fsLGI_R_STGa_ROI', 'fsLGI_R_STSvp_ROI', 'fsLGI_R_TE2a_ROI',\n",
    "       'fsLGI_R_FST_ROI', 'fsLGI_R_V3CD_ROI', 'fsLGI_R_LO3_ROI',\n",
    "       'fsCT_L_SFL_ROI', 'fsCT_L_d23ab_ROI', 'fsCT_L_1_ROI', 'fsCT_L_47m_ROI',\n",
    "       'fsCT_L_10d_ROI', 'fsCT_L_9-46d_ROI', 'fsCT_L_11l_ROI',\n",
    "       'fsCT_L_LIPd_ROI', 'fsCT_L_6a_ROI', 'fsCT_L_PFcm_ROI', 'fsCT_L_AVI_ROI',\n",
    "       'fsCT_L_FOP1_ROI', 'fsCT_L_IP0_ROI', 'fsCT_L_PF_ROI', 'fsCT_L_VMV3_ROI',\n",
    "       'fsCT_L_31pd_ROI', 'fsCT_L_FOP5_ROI', 'fsCT_R_55b_ROI',\n",
    "       'fsCT_R_PCV_ROI', 'fsCT_R_7PL_ROI', 'fsCT_R_LIPv_ROI', 'fsCT_R_a24_ROI',\n",
    "       'fsCT_R_45_ROI', 'fsCT_R_IFSp_ROI', 'fsCT_R_a9-46v_ROI',\n",
    "       'fsCT_R_47s_ROI', 'fsCT_R_LIPd_ROI', 'fsCT_R_52_ROI', 'fsCT_R_TA2_ROI',\n",
    "       'fsCT_R_PHT_ROI', 'fsCT_R_25_ROI', 'fsCT_R_A4_ROI', 'fsCT_R_PI_ROI']\n",
    "imp_features = features[columns_to_select].copy()\n",
    "X = imp_features\n",
    "\n",
    "y = pd.to_numeric(phenotypes['group'])\n",
    "y = y - 1\n",
    "\n",
    "# Assuming 'X' is your feature matrix and 'y' is your target variable\n",
    "# Split the data into training and testing sets\n",
    "X_train, X_test, y_train, y_test = train_test_split(X, y, test_size=0.2, random_state=42)\n",
    "\n",
    "# Standardize the features\n",
    "scaler = StandardScaler()\n",
    "X_train_scaled = scaler.fit_transform(X_train)\n",
    "X_test_scaled = scaler.transform(X_test)\n"
   ]
  },
  {
   "cell_type": "code",
   "execution_count": 8,
   "id": "39c7679a-fbbc-464a-bce3-958370ac51c7",
   "metadata": {},
   "outputs": [
    {
     "name": "stdout",
     "output_type": "stream",
     "text": [
      "Accuracy: 0.5522388059701493\n",
      "Classification Report:\n",
      "              precision    recall  f1-score   support\n",
      "\n",
      "         0.0       0.51      0.47      0.49        91\n",
      "         1.0       0.59      0.62      0.60       110\n",
      "\n",
      "    accuracy                           0.55       201\n",
      "   macro avg       0.55      0.55      0.55       201\n",
      "weighted avg       0.55      0.55      0.55       201\n",
      "\n"
     ]
    }
   ],
   "source": [
    "# Initialize the Logistic Regression classifier with Lasso regularization\n",
    "lasso_logreg = LogisticRegression(penalty='l1', solver='liblinear', C=1.0, random_state=42)\n",
    "\n",
    "# Train the classifier on the training data\n",
    "lasso_logreg.fit(X_train_scaled, y_train)\n",
    "\n",
    "# Make predictions on the testing data\n",
    "y_pred = lasso_logreg.predict(X_test_scaled)\n",
    "\n",
    "# Evaluate the model\n",
    "accuracy = accuracy_score(y_test, y_pred)\n",
    "print(\"Accuracy:\", accuracy)\n",
    "\n",
    "# Print classification report\n",
    "print(\"Classification Report:\")\n",
    "print(classification_report(y_test, y_pred))\n"
   ]
  },
  {
   "cell_type": "code",
   "execution_count": null,
   "id": "a58a0306-32ae-4001-8263-c6170b0c4b76",
   "metadata": {},
   "outputs": [],
   "source": []
  }
 ],
 "metadata": {
  "kernelspec": {
   "display_name": "Python 3 (ipykernel)",
   "language": "python",
   "name": "python3"
  },
  "language_info": {
   "codemirror_mode": {
    "name": "ipython",
    "version": 3
   },
   "file_extension": ".py",
   "mimetype": "text/x-python",
   "name": "python",
   "nbconvert_exporter": "python",
   "pygments_lexer": "ipython3",
   "version": "3.10.12"
  }
 },
 "nbformat": 4,
 "nbformat_minor": 5
}
