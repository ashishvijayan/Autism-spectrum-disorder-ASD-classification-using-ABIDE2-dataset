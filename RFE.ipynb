{
 "cells": [
  {
   "cell_type": "code",
   "execution_count": 2,
   "id": "220d513d-c4a5-4784-94f4-7bff85c51d82",
   "metadata": {},
   "outputs": [],
   "source": [
    "from sklearn.linear_model import LogisticRegression\n",
    "from sklearn.feature_selection import RFE\n",
    "from sklearn.preprocessing import StandardScaler\n",
    "from ndslib.data import load_data\n",
    "from sklearn.metrics import accuracy_score, classification_report\n",
    "from xgboost import XGBClassifier\n",
    "import xgboost as xgb\n",
    "from sklearn.model_selection import train_test_split\n",
    "from sklearn.preprocessing import StandardScaler\n",
    "from sklearn.decomposition import PCA\n",
    "import pandas as pd\n",
    "import seaborn as sns\n",
    "import numpy as np\n",
    "import matplotlib.pyplot as plt\n",
    "plt.rcParams['figure.dpi'] = 300"
   ]
  },
  {
   "cell_type": "code",
   "execution_count": 12,
   "id": "058948aa-d27e-4293-bf8c-067c31fd66e3",
   "metadata": {},
   "outputs": [],
   "source": [
    "abide_data = load_data(\"abide2\")\n",
    "abide_data.shape\n",
    "# abide_data.head()\n",
    "features = abide_data.filter(like='fs')\n",
    "# features.head()\n",
    "phenotypes = abide_data.iloc[:, :6]  # first 6  columns of all\n",
    "# samples are put in a dataframe called phenotypes\n",
    "# phenotypes.head()\n",
    "\n"
   ]
  },
  {
   "cell_type": "code",
   "execution_count": 16,
   "id": "e0f974e6-f612-4f3c-8b19-d4e20f1d1872",
   "metadata": {},
   "outputs": [
    {
     "name": "stdout",
     "output_type": "stream",
     "text": [
      "No columns have missing values.\n"
     ]
    }
   ],
   "source": [
    "X = features\n",
    "\n",
    "\n",
    "y = pd.to_numeric(phenotypes['group'])\n",
    "y = y - 1\n",
    "\n",
    "# Assuming 'X' is your feature matrix and 'y' is your target variable\n",
    "# Split the data into training and testing sets\n",
    "X_train, X_test, y_train, y_test = train_test_split(X, y, test_size=0.2, random_state=42)\n",
    "\n",
    "# Standardize the features\n",
    "scaler = StandardScaler()\n",
    "X_train_scaled = scaler.fit_transform(X_train)\n",
    "X_test_scaled = scaler.transform(X_test)\n"
   ]
  },
  {
   "cell_type": "code",
   "execution_count": 19,
   "id": "19f93478-da26-4321-b27f-aca5d46f0c9f",
   "metadata": {},
   "outputs": [],
   "source": [
    "\n",
    "\n",
    "# Assuming 'X' is your feature matrix and 'y' is your target variable\n",
    "# Initialize the model with a higher max_iter value\n",
    "model = LogisticRegression(max_iter=4000)  # Increase max_iter to 1000\n",
    "\n",
    "# Initialize RFE\n",
    "rfe = RFE(model, n_features_to_select= 100)  # Specify the number of features to select\n",
    "\n",
    "# Fit RFE on scaled training data\n",
    "rfe.fit(X_train_scaled, y_train)\n",
    "\n",
    "# Get selected features\n",
    "selected_features = X.columns[rfe.support_]\n",
    "\n",
    "# Now 'selected_features' contains the names of the selected features"
   ]
  },
  {
   "cell_type": "code",
   "execution_count": 20,
   "id": "b25abca3-8d2d-412f-8113-599c742baf25",
   "metadata": {},
   "outputs": [
    {
     "data": {
      "text/plain": [
       "Index(['fsArea_L_V3_ROI', 'fsArea_L_5mv_ROI', 'fsArea_L_p32pr_ROI',\n",
       "       'fsArea_L_OFC_ROI', 'fsArea_L_52_ROI', 'fsArea_L_STSvp_ROI',\n",
       "       'fsArea_L_TF_ROI', 'fsArea_L_PH_ROI', 'fsArea_L_PFop_ROI',\n",
       "       'fsArea_L_s32_ROI', 'fsArea_L_LBelt_ROI', 'fsArea_R_MST_ROI',\n",
       "       'fsArea_R_VIP_ROI', 'fsArea_R_p32_ROI', 'fsArea_R_8Ad_ROI',\n",
       "       'fsArea_R_AVI_ROI', 'fsArea_R_PBelt_ROI', 'fsArea_R_TE2a_ROI',\n",
       "       'fsVol_L_POS2_ROI', 'fsVol_L_IPS1_ROI', 'fsVol_L_FFC_ROI',\n",
       "       'fsVol_L_v23ab_ROI', 'fsVol_L_PoI2_ROI', 'fsVol_L_FOP2_ROI',\n",
       "       'fsVol_L_PFt_ROI', 'fsVol_L_AIP_ROI', 'fsVol_L_STGa_ROI',\n",
       "       'fsVol_L_25_ROI', 'fsVol_L_s32_ROI', 'fsVol_R_POS2_ROI',\n",
       "       'fsVol_R_MIP_ROI', 'fsVol_R_8BL_ROI', 'fsVol_R_9a_ROI',\n",
       "       'fsVol_R_10pp_ROI', 'fsVol_R_LIPd_ROI', 'fsVol_R_OP2-3_ROI',\n",
       "       'fsVol_R_Pir_ROI', 'fsVol_R_AVI_ROI', 'fsVol_R_TE1p_ROI',\n",
       "       'fsVol_R_PHT_ROI', 'fsVol_R_TPOJ1_ROI', 'fsVol_R_PoI1_ROI',\n",
       "       'fsVol_R_Ig_ROI', 'fsLGI_L_V3_ROI', 'fsLGI_L_3b_ROI', 'fsLGI_L_V3B_ROI',\n",
       "       'fsLGI_L_5mv_ROI', 'fsLGI_L_a24_ROI', 'fsLGI_L_44_ROI',\n",
       "       'fsLGI_L_OFC_ROI', 'fsLGI_L_OP4_ROI', 'fsLGI_L_AIP_ROI',\n",
       "       'fsLGI_L_PFop_ROI', 'fsLGI_L_s32_ROI', 'fsLGI_L_STSva_ROI',\n",
       "       'fsLGI_R_MST_ROI', 'fsLGI_R_V3B_ROI', 'fsLGI_R_p32_ROI',\n",
       "       'fsLGI_R_8Ad_ROI', 'fsLGI_R_RI_ROI', 'fsLGI_R_AVI_ROI',\n",
       "       'fsLGI_R_STGa_ROI', 'fsLGI_R_STSvp_ROI', 'fsLGI_R_TE2a_ROI',\n",
       "       'fsLGI_R_FST_ROI', 'fsLGI_R_V3CD_ROI', 'fsLGI_R_LO3_ROI',\n",
       "       'fsCT_L_SFL_ROI', 'fsCT_L_d23ab_ROI', 'fsCT_L_1_ROI', 'fsCT_L_47m_ROI',\n",
       "       'fsCT_L_10d_ROI', 'fsCT_L_9-46d_ROI', 'fsCT_L_11l_ROI',\n",
       "       'fsCT_L_LIPd_ROI', 'fsCT_L_6a_ROI', 'fsCT_L_PFcm_ROI', 'fsCT_L_AVI_ROI',\n",
       "       'fsCT_L_FOP1_ROI', 'fsCT_L_IP0_ROI', 'fsCT_L_PF_ROI', 'fsCT_L_VMV3_ROI',\n",
       "       'fsCT_L_31pd_ROI', 'fsCT_L_FOP5_ROI', 'fsCT_R_55b_ROI',\n",
       "       'fsCT_R_PCV_ROI', 'fsCT_R_7PL_ROI', 'fsCT_R_LIPv_ROI', 'fsCT_R_a24_ROI',\n",
       "       'fsCT_R_45_ROI', 'fsCT_R_IFSp_ROI', 'fsCT_R_a9-46v_ROI',\n",
       "       'fsCT_R_47s_ROI', 'fsCT_R_LIPd_ROI', 'fsCT_R_52_ROI', 'fsCT_R_TA2_ROI',\n",
       "       'fsCT_R_PHT_ROI', 'fsCT_R_25_ROI', 'fsCT_R_A4_ROI', 'fsCT_R_PI_ROI'],\n",
       "      dtype='object')"
      ]
     },
     "execution_count": 20,
     "metadata": {},
     "output_type": "execute_result"
    }
   ],
   "source": [
    "selected_features"
   ]
  },
  {
   "cell_type": "code",
   "execution_count": null,
   "id": "4ed0f751-bf2e-468c-8533-224931ea89e6",
   "metadata": {},
   "outputs": [],
   "source": [
    "'''\n",
    "# Assuming 'X' is your feature matrix (DataFrame)\n",
    "# Check for missing values in each column\n",
    "missing_percentage = (X.isnull().sum() / len(X)) * 100\n",
    "\n",
    "# Filter columns with missing values\n",
    "missing_cols = missing_percentage[missing_percentage > 0]\n",
    "\n",
    "if not missing_cols.empty:\n",
    "    print(\"Columns with missing values:\")\n",
    "    print(missing_cols)\n",
    "else:\n",
    "    print(\"No columns have missing values.\")\n",
    "'''"
   ]
  }
 ],
 "metadata": {
  "kernelspec": {
   "display_name": "Python 3 (ipykernel)",
   "language": "python",
   "name": "python3"
  },
  "language_info": {
   "codemirror_mode": {
    "name": "ipython",
    "version": 3
   },
   "file_extension": ".py",
   "mimetype": "text/x-python",
   "name": "python",
   "nbconvert_exporter": "python",
   "pygments_lexer": "ipython3",
   "version": "3.10.12"
  }
 },
 "nbformat": 4,
 "nbformat_minor": 5
}
